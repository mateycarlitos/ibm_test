{
 "cells": [
  {
   "cell_type": "markdown",
   "id": "dfde04b4-077f-45a8-80b8-f85fd8aad5ec",
   "metadata": {},
   "source": [
    "## Data Science Tools and Ecosystem"
   ]
  },
  {
   "cell_type": "markdown",
   "id": "71d35bbe-c633-4d12-bc48-c0ea17feccf4",
   "metadata": {},
   "source": [
    "## Author: Alejandro"
   ]
  },
  {
   "cell_type": "markdown",
   "id": "7b5e5694-4178-4921-b180-dc488f21340a",
   "metadata": {},
   "source": [
    "In this notebook, Data Science Tools and Ecosystem are summarized"
   ]
  },
  {
   "cell_type": "markdown",
   "id": "e4c265f2-6573-4f3b-8c0a-173f0f88c956",
   "metadata": {},
   "source": [
    "Objectives:\n",
    "- List popular languages in Data Science\n",
    "- List common libraries used in Data Science\n",
    "- Carry out basic arithmetic operations"
   ]
  },
  {
   "cell_type": "markdown",
   "id": "84d3b208-a8c2-4d9d-af46-f33a786222c8",
   "metadata": {},
   "source": [
    "Some of the popular languages that Data Scientists use are:\n",
    "1. Python\n",
    "2. R\n",
    "3. SQL"
   ]
  },
  {
   "cell_type": "markdown",
   "id": "5eb83bc1-758b-4204-a1c9-bc378f796f58",
   "metadata": {},
   "source": [
    "Some of the commonly used libraries used by Data Scientists include:\n",
    "1. Pandas\n",
    "2. NumPy\n",
    "3. Matplotlib"
   ]
  },
  {
   "cell_type": "markdown",
   "id": "221e5152-f0b8-422f-a2a0-3e4b52152417",
   "metadata": {},
   "source": [
    "| Data Science Tools|\n",
    "| - |\n",
    "| PyCharm |\n",
    "| RStudio |\n",
    "| Jupyter Lab |"
   ]
  },
  {
   "attachments": {},
   "cell_type": "markdown",
   "id": "dc1daeed-0236-454e-8b71-f5cd5911477c",
   "metadata": {},
   "source": [
    "### Below are a few examples of evaluating arithmetic expressions in Python"
   ]
  },
  {
   "cell_type": "code",
   "execution_count": 10,
   "id": "7c6364f1-12d0-461b-bdbd-04e2395475cb",
   "metadata": {},
   "outputs": [
    {
     "data": {
      "text/plain": [
       "17"
      ]
     },
     "execution_count": 10,
     "metadata": {},
     "output_type": "execute_result"
    }
   ],
   "source": [
    "# This is a simple arithmetic expression to multiply then add integers\n",
    "(3*4) + 5"
   ]
  },
  {
   "cell_type": "code",
   "execution_count": 12,
   "id": "c118d18b-147c-42e2-9153-096709fd34ee",
   "metadata": {},
   "outputs": [
    {
     "data": {
      "text/plain": [
       "3.3333333333333335"
      ]
     },
     "execution_count": 12,
     "metadata": {},
     "output_type": "execute_result"
    }
   ],
   "source": [
    "# This will convert 200 minutes to hours by dividing by 60\n",
    "200 / 60"
   ]
  }
 ],
 "metadata": {
  "kernelspec": {
   "display_name": "Python 3 (ipykernel)",
   "language": "python",
   "name": "python3"
  },
  "language_info": {
   "codemirror_mode": {
    "name": "ipython",
    "version": 3
   },
   "file_extension": ".py",
   "mimetype": "text/x-python",
   "name": "python",
   "nbconvert_exporter": "python",
   "pygments_lexer": "ipython3",
   "version": "3.12.1"
  }
 },
 "nbformat": 4,
 "nbformat_minor": 5
}
